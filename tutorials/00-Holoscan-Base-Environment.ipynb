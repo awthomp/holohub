{
 "cells": [
  {
   "cell_type": "markdown",
   "metadata": {},
   "source": [
    "# NVIDIA Holoscan Base Environment\n",
    "\n",
    "NVIDIA Holoscan is a domain-agnostic AI sensor processing SDK for low latency, streaming workflows and applications. In this tutorial, we will show how to setup your environment and install any necessary dependencies for getting up and running with Holoscan."
   ]
  },
  {
   "cell_type": "markdown",
   "metadata": {},
   "source": [
    "## Prerequisites\n",
    "Prior to installing Holoscan, ensure you have a CUDA-capable GPU and are running Ubuntu 20.04 or newer. Execute the following cell to confirm that your NVIDIA GPU is available.\n",
    "\n",
    "If you are running this notebook on Google Colab, ensure you choose a \"GPU Runtime\" via the Colab settings."
   ]
  },
  {
   "cell_type": "code",
   "execution_count": null,
   "metadata": {},
   "outputs": [],
   "source": [
    "!nvidia-smi"
   ]
  },
  {
   "cell_type": "markdown",
   "metadata": {},
   "source": [
    "## Python Installation"
   ]
  },
  {
   "cell_type": "code",
   "execution_count": null,
   "metadata": {},
   "outputs": [],
   "source": [
    "# Install TensorRT and cuda-runtime\n",
    "!pip install nvidia-tensorrt==8.2.3.0 --index https://pypi.ngc.nvidia.com\n",
    "\n",
    "# Install Holoscan\n",
    "!pip install holoscan"
   ]
  },
  {
   "cell_type": "markdown",
   "metadata": {},
   "source": [
    "## Confirm Installation"
   ]
  },
  {
   "cell_type": "code",
   "execution_count": null,
   "metadata": {},
   "outputs": [],
   "source": [
    "import holoscan"
   ]
  }
 ],
 "metadata": {
  "interpreter": {
   "hash": "7ee16e2401bc3c081e361647d39493d3637091ba460f1d4a7cfed1ef48569f4f"
  },
  "kernelspec": {
   "display_name": "Python 3.8.16 ('holoscan-dsp')",
   "language": "python",
   "name": "python3"
  },
  "language_info": {
   "codemirror_mode": {
    "name": "ipython",
    "version": 3
   },
   "file_extension": ".py",
   "mimetype": "text/x-python",
   "name": "python",
   "nbconvert_exporter": "python",
   "pygments_lexer": "ipython3",
   "version": "3.8.16"
  },
  "orig_nbformat": 4
 },
 "nbformat": 4,
 "nbformat_minor": 2
}
